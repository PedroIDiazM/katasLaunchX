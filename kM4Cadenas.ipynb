{
 "cells": [
  {
   "cell_type": "markdown",
   "metadata": {},
   "source": [
    "# Transformar cadenas.\n",
    "## Ejercicio 1."
   ]
  },
  {
   "cell_type": "code",
   "execution_count": 73,
   "metadata": {},
   "outputs": [
    {
     "name": "stdout",
     "output_type": "stream",
     "text": [
      " The Moon is Earth's only satellite.\n",
      " \n",
      "On average, the Moon moves 4cm away from the Earth every year.\n",
      " This yearly drift is not significant enough to cause immediate effects on Earth.\n",
      " The highest daylight temperature of the Moon is 127 C.\n",
      "\n",
      "--------------\n",
      "\n",
      " The Moon is Earth's only satellite.\n",
      " \n",
      "On average, the Moon moves 4cm away from the Earth every year.\n",
      " This yearly drift is not significant enough to cause immediate effects on Earth.\n",
      " The highest daylight temperature of the Moon is 127 Celsius.\n"
     ]
    }
   ],
   "source": [
    "text = \"\"\"Interesting facts about the Moon. The Moon is Earth's only satellite. There are several interesting facts about the Moon and how it affects life here on Earth. \n",
    "On average, the Moon moves 4cm away from the Earth every year. This yearly drift is not significant enough to cause immediate effects on Earth. The highest daylight temperature of the Moon is 127 C.\"\"\"\n",
    "\n",
    "# Primero, divide el texto en cada oración para trabajar con su contenido:\n",
    "\n",
    "textSplitted = text.split('.')\n",
    "\n",
    "# Ahora, define algunas palabras clave para búsqueda que te ayudarán a determinar si una oración contiene un hecho.\n",
    "\n",
    "keyW = ['satellite', \"moves\", \"drift\", \"highest\"]\n",
    "\n",
    "# Cree un bucle para imprimir solo datos sobre la Luna que estén relacionados con las palabras clave definidas anteriormente:\n",
    "\n",
    "for split in textSplitted:\n",
    "    for word in keyW:\n",
    "        if split.find(word) > 0:\n",
    "            print(split + \".\")\n",
    "\n",
    "# Finalmente, actualiza el bucle(ciclo) para cambiar C a Celsius:\n",
    "print(\"\\n\"+\"--------------\"+\"\\n\")\n",
    "\n",
    "for split in textSplitted:\n",
    "    for word in keyW:\n",
    "        if split.find(word) > 0:\n",
    "            if split.find('C') > 0:\n",
    "                split = split.replace('C', 'Celsius')\n",
    "            print(split + \".\")"
   ]
  },
  {
   "cell_type": "markdown",
   "metadata": {},
   "source": [
    "## Formateando cadenas.\n",
    "### Ejercicio 2."
   ]
  },
  {
   "cell_type": "code",
   "execution_count": 24,
   "metadata": {},
   "outputs": [
    {
     "name": "stdout",
     "output_type": "stream",
     "text": [
      "Gravity in the Genímedes\n",
      "----------------------\n",
      "Name: Genímedes\n",
      "Gravity: 1.4300000000000002\n",
      "Planet: Marte\n"
     ]
    }
   ],
   "source": [
    "# Datos con los que vas a trabajar\n",
    "name = \"Moon\"\n",
    "gravity = 0.00162 # in kms\n",
    "planet = \"Earth\"\n",
    "\n",
    "# Creamos el titulo\n",
    "\n",
    "title = \"Gravity in the \"+ name\n",
    "\n",
    "# Creamos la plantilla\n",
    "\n",
    "plantilla = \"\"\"Name: \"\"\"+name+\"\"\"\n",
    "Gravity: \"\"\"+ str(gravity * 1000)+\"\"\"\n",
    "Planet: \"\"\"+planet\n",
    "\n",
    "# Unión de ambas cadenas\n",
    "\n",
    "fullText = title + \"\\n\" + plantilla\n",
    "\n",
    "# Cambio de información\n",
    "\n",
    "name = \"Genímedes\"\n",
    "gravity = 0.00143 # in kms\n",
    "planet = \"Marte\"\n",
    "\n",
    "#print(multilinea)\n",
    "\n",
    "# Nueva plantilla\n",
    "\n",
    "nuevaPlantilla = \"\"\"Gravity in the {}\n",
    "----------------------\n",
    "Name: {}\n",
    "Gravity: {}\n",
    "Planet: {}\"\"\"\n",
    "\n",
    "# Expresión en format\n",
    "\n",
    "newGrav = gravity * 1000\n",
    "\n",
    "print(nuevaPlantilla.format(name, name, newGrav, planet))\n",
    "\n",
    "\n",
    "\n"
   ]
  }
 ],
 "metadata": {
  "interpreter": {
   "hash": "9efce205f64ad363cd9f14615485aca38ee4ef0915866e318aa83c8d0c93f6fc"
  },
  "kernelspec": {
   "display_name": "Python 3.10.2 64-bit",
   "language": "python",
   "name": "python3"
  },
  "language_info": {
   "codemirror_mode": {
    "name": "ipython",
    "version": 3
   },
   "file_extension": ".py",
   "mimetype": "text/x-python",
   "name": "python",
   "nbconvert_exporter": "python",
   "pygments_lexer": "ipython3",
   "version": "3.10.2"
  },
  "orig_nbformat": 4
 },
 "nbformat": 4,
 "nbformat_minor": 2
}
