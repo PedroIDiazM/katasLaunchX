{
 "cells": [
  {
   "cell_type": "markdown",
   "metadata": {},
   "source": [
    "# Declaraciones if, elif y else.\n",
    "## Ejercicio 1\n",
    "Crear un programa que imprima una advertencia si un asteroide supera 25km/s"
   ]
  },
  {
   "cell_type": "code",
   "execution_count": 2,
   "metadata": {},
   "outputs": [
    {
     "name": "stdout",
     "output_type": "stream",
     "text": [
      "ADVERTENCIA un asteroide a 49km/s, podria impactar contra la tierra, tome sus precauciones y siga las instrucciones de su superior.\n"
     ]
    }
   ],
   "source": [
    "# Añadir el código necesario para crear una variable que guarde la velocidad del asteroide.\n",
    "# Escribe una expresión de prueba para calcular si necesita una advertencia.\n",
    "# Agregue las instrucciones que se ejecutarán si la expresión de prueba es true o false.\n",
    "\n",
    "velAst = 49\n",
    "\n",
    "if velAst > 25:\n",
    "    print(\"ADVERTENCIA un asteroide a \" + str(velAst) + \"km/s, podria impactar contra la tierra, tome sus precauciones y siga las instrucciones de su superior.\")\n",
    "else:\n",
    "    print(\"No hay asteroides acercandose a la tierra.\")"
   ]
  },
  {
   "cell_type": "markdown",
   "metadata": {},
   "source": [
    "## Ejercicio 2\n",
    "Crear un programa que imprima una alerta para que las personas de todo el mundo busquen un asteroide si la velocidad del asteroide es mayor o igual a 20km/s.\n",
    "\n",
    "¡Hay uno que se dirige a la tierra ahora a una velocidad de 19km/s!"
   ]
  },
  {
   "cell_type": "code",
   "execution_count": 3,
   "metadata": {},
   "outputs": [
    {
     "name": "stdout",
     "output_type": "stream",
     "text": [
      "No se ve un rayo de luz, no hay instrucciones a seguir.\n"
     ]
    }
   ],
   "source": [
    "# Agrega el código para crear una variable para un asteroide que viaja a 19 km/s\n",
    "# Escribe varias expresiones de prueba para determinar si puedes ver el rayo de luz desde la tierra\n",
    "# Agrega las instrucciones que se ejecutarán si las expresiones de prueba son True o False\n",
    "\n",
    "velAst = 19\n",
    "\n",
    "if velAst >= 20:\n",
    "    print(\"Se ve un rayo de luz en el cielo producto de un asteroide.\")\n",
    "    print(\"Alerta: Personas del mundo, busquen un asteroide en el cielo.\")\n",
    "elif velAst < 20:\n",
    "    print(\"No se ve un rayo de luz, no hay instrucciones a seguir.\")\n",
    "else:\n",
    "    print(\"No hay ni asteroide.\")"
   ]
  },
  {
   "cell_type": "markdown",
   "metadata": {},
   "source": [
    "# Operadores and y or\n",
    "## Ejercicio 3\n",
    "\n",
    "* Los asteroides de menos de 25 metros en su dimensión más grande probablemente se quemarán a medida que entren en la atmósfera de la Tierra.\n",
    "* Si una pieza de un asteroide que es más grande que 25 metros pero más pequeña que 1000 metros golpeara la Tierra, causaría mucho daño.\n",
    "\n",
    "También discutimos en el ejercicio anterior que:\n",
    "\n",
    "* La velocidad del asteroide varía en función de lo cerca que esté del sol, y cualquier velocidad superior a 25 kilómetros por segundo (km/s) merece una advertencia.\n",
    "* Si un asteroide entra en la atmósfera de la Tierra a una velocidad mayor o igual a 20 km/s, a veces produce un rayo de luz que se puede ver desde la Tierra.\n",
    "\n",
    "Usando toda esta información, escribe un programa que emita la advertencia o información correcta a la gente de la Tierra, según la velocidad y el tamaño de un asteroide. Utiliza instrucciones `if`, `else`, y `elif`, así como los operadores `and` y `or`."
   ]
  },
  {
   "cell_type": "code",
   "execution_count": 10,
   "metadata": {},
   "outputs": [
    {
     "name": "stdout",
     "output_type": "stream",
     "text": [
      "¡¡VAMOS A MORIR!!\n"
     ]
    }
   ],
   "source": [
    "# Agrega el código para crear nuevas variables para la velocidad y el tamaño del asteroide\n",
    "# Para probar el código, prueba con varias velocidades y tamaños\n",
    "# Escribe varias expresiones de prueba o combinaciones de expresiones de prueba para determinar qué mensaje se debe enviar a Tierra.\n",
    "tamAst = 5000 # < 25m = se quema & no riesgo | >= 25 pero <= 1000 = mucho daño.\n",
    "velAst = 500 # >= 25km/s produce rayo = advertencia\n",
    "\n",
    "\n",
    "if tamAst == 0 and velAst == 0:\n",
    "    print(\"No hay asteroides orbitando por ahí.\")\n",
    "elif tamAst < 25  and velAst < 25:\n",
    "    print(\"Hay un asteroide orbitando sin riego de impacto.\")\n",
    "elif velAst >= 25:\n",
    "    if tamAst < 25:\n",
    "        print(\"Hay un asteroide produciendo luces en la atmosfera sin riesgo de impacto, salga a ver el espectáculo.\")\n",
    "    elif tamAst >= 25 and tamAst <= 1000:\n",
    "        print(\"¡Advertencia!: un asteroide con un tamaño de \"+ str(tamAst) + \"m y una velocidad de \" + str(velAst) + \"km/s podría impactar la tierra, por su seguridad siga los protocolos de seguridad.\")\n",
    "    else:\n",
    "        print(\"¡¡VAMOS A MORIR!!\")\n",
    "else:\n",
    "    print(\"Hay un asteroide grande orbitando sin riesgo de impacto.\")\n"
   ]
  }
 ],
 "metadata": {
  "interpreter": {
   "hash": "9efce205f64ad363cd9f14615485aca38ee4ef0915866e318aa83c8d0c93f6fc"
  },
  "kernelspec": {
   "display_name": "Python 3.10.2 64-bit",
   "language": "python",
   "name": "python3"
  },
  "language_info": {
   "codemirror_mode": {
    "name": "ipython",
    "version": 3
   },
   "file_extension": ".py",
   "mimetype": "text/x-python",
   "name": "python",
   "nbconvert_exporter": "python",
   "pygments_lexer": "ipython3",
   "version": "3.10.2"
  },
  "orig_nbformat": 4
 },
 "nbformat": 4,
 "nbformat_minor": 2
}
