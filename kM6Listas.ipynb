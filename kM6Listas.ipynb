{
 "cells": [
  {
   "cell_type": "markdown",
   "metadata": {},
   "source": [
    "# Crear y usar listas.\n",
    "## Ejercicio 1"
   ]
  },
  {
   "cell_type": "code",
   "execution_count": 17,
   "metadata": {},
   "outputs": [
    {
     "name": "stdout",
     "output_type": "stream",
     "text": [
      "Planets: 8\n",
      "Planets:  9 . Last planet:  Plutón\n"
     ]
    }
   ],
   "source": [
    "# Creamos la lista planets y la mostramos\n",
    "\n",
    "planets = [\"Mercurio\", \"Venus\", \"Tierra\", \"Marte\", \"Júpiter\", \"Saturno\", \"Urano\", \"Neptuno\"]\n",
    "print(\"Planets: \"+ str(len(planets)))\n",
    "\n",
    "# Agregamos a plutón y mostramos el número de planetas y el último elemento\n",
    "\n",
    "planets.append(\"Plutón\")\n",
    "print(\"Planets: \", str(len(planets)), \". Last planet: \", planets[-1])"
   ]
  },
  {
   "cell_type": "markdown",
   "metadata": {},
   "source": [
    "## Ejercicio 2"
   ]
  },
  {
   "cell_type": "code",
   "execution_count": 22,
   "metadata": {},
   "outputs": [
    {
     "name": "stdout",
     "output_type": "stream",
     "text": [
      "Planetas cercanos con relación al sol:  ['Mercurio', 'Venus', 'Tierra', 'Marte']\n",
      "Planetas lejanos con relación al sol:  ['Saturno', 'Urano', 'Neptuno', 'Plutón']\n"
     ]
    }
   ],
   "source": [
    "# Solicitamos el nombre de un planeta\n",
    "\n",
    "userPla = input(\"Introduzca el nombre de un planeta empezando con mayúsculas (Ej. Marte): \")\n",
    "\n",
    "# Busca el planeta en la lista\n",
    "\n",
    "plaIn = planets.index(userPla)\n",
    "\n",
    "# Muestra los planetas más cercanos al sol\n",
    "\n",
    "print(\"Planetas cercanos con relación al sol: \", planets[0:plaIn])\n",
    "\n",
    "# Muestra los planetas más lejanos al sol\n",
    "\n",
    "print(\"Planetas lejanos con relación al sol: \", planets[plaIn + 1:9])\n"
   ]
  }
 ],
 "metadata": {
  "interpreter": {
   "hash": "9efce205f64ad363cd9f14615485aca38ee4ef0915866e318aa83c8d0c93f6fc"
  },
  "kernelspec": {
   "display_name": "Python 3.10.2 64-bit",
   "language": "python",
   "name": "python3"
  },
  "language_info": {
   "codemirror_mode": {
    "name": "ipython",
    "version": 3
   },
   "file_extension": ".py",
   "mimetype": "text/x-python",
   "name": "python",
   "nbconvert_exporter": "python",
   "pygments_lexer": "ipython3",
   "version": "3.10.2"
  },
  "orig_nbformat": 4
 },
 "nbformat": 4,
 "nbformat_minor": 2
}
