{
 "cells": [
  {
   "cell_type": "markdown",
   "metadata": {},
   "source": [
    "# Uso de funciones\n",
    "## Ejercicio 1"
   ]
  },
  {
   "cell_type": "code",
   "execution_count": 36,
   "metadata": {},
   "outputs": [
    {
     "name": "stdout",
     "output_type": "stream",
     "text": [
      "== STATUS REPORT ==\n",
      "Averge fuel: 46.73333333333333.\n"
     ]
    }
   ],
   "source": [
    "# Función para leer 3 tanques de combustible y muestre el promedio\n",
    "\n",
    "#def statRep(t1, t2, t3):\n",
    "#    print(f'Status report.\\nFuel av: {(t1 + t2 + t3) / 3}')\n",
    "\n",
    "# Llamamos a la función que genera el reporte print(funcion(tanque1, tanque2, tanque3))\n",
    "\n",
    "#print(f'STATUS REPORT.\\nAverge fuel: {statRep(22,52,82)}')\n",
    "\n",
    "# Función promedio \n",
    "\n",
    "def avFuel(t1,t2,t3):\n",
    "    return (t1 + t2 + t3) / 3\n",
    "\n",
    "# Actualiza la función\n",
    "\n",
    "def statRep():\n",
    "    print(f'== STATUS REPORT ==\\nAverge fuel: {avFuel(32.9,67.5,39.8)}.')\n",
    "\n",
    "statRep()\n"
   ]
  },
  {
   "cell_type": "markdown",
   "metadata": {},
   "source": [
    "## Ejercicio 2"
   ]
  },
  {
   "cell_type": "code",
   "execution_count": 41,
   "metadata": {},
   "outputs": [
    {
     "name": "stdout",
     "output_type": "stream",
     "text": [
      "== STATUS REPORT ==\n",
      "Pre launch time: 25.\n",
      "Flight time: 72.5.\n",
      "Destination: Moon.\n",
      "Exterior tank: 82.5.\n",
      "Interior tank: 62.4.\n",
      "--=== [ STATUS REPORT ] ===--\n",
      "Destination: Mars.\n",
      "Pre launch minutes (1): 4.\n",
      "Pre launch minutes (2): 16.\n",
      "Pre launch minutes (3): 25.\n",
      "Estimated flight time: 72.52.\n",
      "Tank \"Interior\" fuel: 34.\n",
      "Tank \"Exterior\" fuel: 67.\n",
      "Tank \"Spare\" fuel: 82.\n"
     ]
    }
   ],
   "source": [
    "# Función con un informe preciso de la misión. Considera hora de prelanzamiento, tiempo de vuelo, destino, tanque externo y tanque interno.\n",
    "\n",
    "def statusR(preLaunchTime, flightTime, destination, intTank, extTank):\n",
    "    print(f'== STATUS REPORT ==\\nPre launch time: {preLaunchTime}.\\nFlight time: {flightTime}.\\nDestination: {destination}.\\nExterior tank: {extTank}.\\nInterior tank: {intTank}.')\n",
    "\n",
    "statusR(25, 72.5, 'Moon', 62.4, 82.5)\n",
    "# Escribe tu nueva función de reporte considerando lo anterior\n",
    "\n",
    "def statusReport(destination, flightTime, *preLaunchMinutes, **tanks):\n",
    "    i = 0\n",
    "    print(f'--=== [ STATUS REPORT ] ===--\\nDestination: {destination}.')\n",
    "    for min in preLaunchMinutes:\n",
    "        i += 1\n",
    "        print(f'Pre launch minutes ({i}): {min}.')\n",
    "    i = 0\n",
    "    print(f'Estimated flight time: {flightTime}.')\n",
    "    for tank, fuel in tanks.items():\n",
    "        i += 1\n",
    "        print(f'Tank \"{tank}\" fuel: {fuel}.')\n",
    "    \n",
    "\n",
    "statusReport('Mars', 72.52, 4,16,25, Interior=34, Exterior=67, Spare=82)"
   ]
  }
 ],
 "metadata": {
  "interpreter": {
   "hash": "9efce205f64ad363cd9f14615485aca38ee4ef0915866e318aa83c8d0c93f6fc"
  },
  "kernelspec": {
   "display_name": "Python 3.10.2 64-bit",
   "language": "python",
   "name": "python3"
  },
  "language_info": {
   "codemirror_mode": {
    "name": "ipython",
    "version": 3
   },
   "file_extension": ".py",
   "mimetype": "text/x-python",
   "name": "python",
   "nbconvert_exporter": "python",
   "pygments_lexer": "ipython3",
   "version": "3.10.2"
  },
  "orig_nbformat": 4
 },
 "nbformat": 4,
 "nbformat_minor": 2
}
