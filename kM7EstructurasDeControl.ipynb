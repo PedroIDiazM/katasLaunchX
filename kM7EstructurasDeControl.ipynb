{
 "cells": [
  {
   "cell_type": "markdown",
   "metadata": {},
   "source": [
    "# Uso de ciclos en python.\n",
    "\n",
    "## Ejercicio 1 ``while``"
   ]
  },
  {
   "cell_type": "code",
   "execution_count": 11,
   "metadata": {},
   "outputs": [
    {
     "name": "stdout",
     "output_type": "stream",
     "text": [
      "Planeta: Eris agregado exitosamente.\n",
      "Planeta: Ixion agregado exitosamente.\n",
      "Planeta: Ceres agregado exitosamente.\n",
      "Planeta: Sedna agregado exitosamente.\n",
      "Planeta: Hygiea agregado exitosamente.\n",
      "Planeta: Varuna agregado exitosamente.\n"
     ]
    }
   ],
   "source": [
    "# Declara dos variables\n",
    "\n",
    "new_planet = \"not-done\"\n",
    "planets = []\n",
    "\n",
    "# Escribe el ciclo while solicitado\n",
    "\n",
    "while new_planet.lower() != 'done':\n",
    "    new_planet = input('Escriba el planeta a agregar o \"done\" para finalizar.')\n",
    "    planets.append(new_planet)\n",
    "    if new_planet.lower() != 'done':\n",
    "        print(f'Planeta: {new_planet} agregado exitosamente.')"
   ]
  },
  {
   "cell_type": "markdown",
   "metadata": {},
   "source": [
    "## Ejercicio 2 ``for``"
   ]
  },
  {
   "cell_type": "code",
   "execution_count": 13,
   "metadata": {},
   "outputs": [
    {
     "name": "stdout",
     "output_type": "stream",
     "text": [
      "Planeta: Eris.\n",
      "Planeta: Ixion.\n",
      "Planeta: Ceres.\n",
      "Planeta: Sedna.\n",
      "Planeta: Hygiea.\n",
      "Planeta: Varuna.\n",
      "Planeta: done.\n"
     ]
    }
   ],
   "source": [
    "# Escribe tu ciclo for para iterar en una lista de planetas\n",
    "for planet in planets:\n",
    "    print(f'Planeta: {planet}.')"
   ]
  }
 ],
 "metadata": {
  "interpreter": {
   "hash": "9efce205f64ad363cd9f14615485aca38ee4ef0915866e318aa83c8d0c93f6fc"
  },
  "kernelspec": {
   "display_name": "Python 3.10.2 64-bit",
   "language": "python",
   "name": "python3"
  },
  "language_info": {
   "codemirror_mode": {
    "name": "ipython",
    "version": 3
   },
   "file_extension": ".py",
   "mimetype": "text/x-python",
   "name": "python",
   "nbconvert_exporter": "python",
   "pygments_lexer": "ipython3",
   "version": "3.10.2"
  },
  "orig_nbformat": 4
 },
 "nbformat": 4,
 "nbformat_minor": 2
}
